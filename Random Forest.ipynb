{
 "cells": [
  {
   "cell_type": "markdown",
   "id": "2b9b88e8",
   "metadata": {},
   "source": [
    "### Implementation of Random forest using scikit-learn"
   ]
  },
  {
   "cell_type": "code",
   "execution_count": 1,
   "id": "5a901455",
   "metadata": {},
   "outputs": [],
   "source": [
    "from sklearn.datasets import load_digits"
   ]
  },
  {
   "cell_type": "code",
   "execution_count": 2,
   "id": "d63d8d8a",
   "metadata": {},
   "outputs": [],
   "source": [
    "d = load_digits()"
   ]
  },
  {
   "cell_type": "code",
   "execution_count": 3,
   "id": "52e902ac",
   "metadata": {},
   "outputs": [],
   "source": [
    "x = d.data\n",
    "y = d.target"
   ]
  },
  {
   "cell_type": "code",
   "execution_count": 4,
   "id": "701f30e3",
   "metadata": {},
   "outputs": [
    {
     "data": {
      "text/plain": [
       "(1797, 64)"
      ]
     },
     "execution_count": 4,
     "metadata": {},
     "output_type": "execute_result"
    }
   ],
   "source": [
    "x.shape"
   ]
  },
  {
   "cell_type": "code",
   "execution_count": 5,
   "id": "65359656",
   "metadata": {},
   "outputs": [],
   "source": [
    "from sklearn.model_selection import train_test_split"
   ]
  },
  {
   "cell_type": "code",
   "execution_count": 6,
   "id": "441174e8",
   "metadata": {},
   "outputs": [],
   "source": [
    "xtrain,xtest,ytrain,ytest = train_test_split(x,y,test_size=.2,random_state=12)"
   ]
  },
  {
   "cell_type": "code",
   "execution_count": 7,
   "id": "e19babe6",
   "metadata": {},
   "outputs": [],
   "source": [
    "from sklearn.ensemble import RandomForestClassifier\n",
    "from sklearn.tree import DecisionTreeClassifier"
   ]
  },
  {
   "cell_type": "code",
   "execution_count": 8,
   "id": "122c33eb",
   "metadata": {},
   "outputs": [
    {
     "name": "stdout",
     "output_type": "stream",
     "text": [
      "rf train score: 1.0\n",
      "rf test score: 0.9555555555555556\n"
     ]
    }
   ],
   "source": [
    "rf = RandomForestClassifier(n_estimators=20)\n",
    "\n",
    "rf.fit(xtrain,ytrain)\n",
    "#dt.fit(xtrain,ytrain)\n",
    "\n",
    "rf_test_score = rf.score(xtest,ytest)\n",
    "\n",
    "rf_train_score = rf.score(xtrain,ytrain)\n",
    "\n",
    "print('rf train score:',rf_train_score)\n",
    "\n",
    "print('rf test score:',rf_test_score)"
   ]
  },
  {
   "cell_type": "code",
   "execution_count": 9,
   "id": "058b2796",
   "metadata": {},
   "outputs": [
    {
     "name": "stdout",
     "output_type": "stream",
     "text": [
      "dt train score: 1.0\n",
      "dt test score: 0.875\n"
     ]
    }
   ],
   "source": [
    "dt = DecisionTreeClassifier()\n",
    "dt.fit(xtrain,ytrain)\n",
    "\n",
    "dt_test_score = dt.score(xtest,ytest)\n",
    "\n",
    "dt_train_score = dt.score(xtrain,ytrain)\n",
    "\n",
    "print('dt train score:',dt_train_score)\n",
    "\n",
    "print('dt test score:',dt_test_score)"
   ]
  },
  {
   "cell_type": "markdown",
   "id": "1a3a615e",
   "metadata": {},
   "source": [
    "- **Decision tree getting overfitted**  "
   ]
  },
  {
   "cell_type": "markdown",
   "id": "0d8e72c4",
   "metadata": {},
   "source": [
    "### Random forest or Decision tree can be used for feature selection"
   ]
  },
  {
   "cell_type": "code",
   "execution_count": 10,
   "id": "cb0b6273",
   "metadata": {},
   "outputs": [],
   "source": [
    "from sklearn.datasets import load_iris"
   ]
  },
  {
   "cell_type": "code",
   "execution_count": 11,
   "id": "79800631",
   "metadata": {},
   "outputs": [],
   "source": [
    "iris = load_iris()"
   ]
  },
  {
   "cell_type": "code",
   "execution_count": 12,
   "id": "ca553f9b",
   "metadata": {},
   "outputs": [],
   "source": [
    "x = iris.data\n",
    "y = iris.target"
   ]
  },
  {
   "cell_type": "code",
   "execution_count": 13,
   "id": "56eac56b",
   "metadata": {},
   "outputs": [
    {
     "data": {
      "text/plain": [
       "array([0.21056479, 0.03474837, 0.44836398, 0.30632286])"
      ]
     },
     "execution_count": 13,
     "metadata": {},
     "output_type": "execute_result"
    }
   ],
   "source": [
    "rf = RandomForestClassifier(n_estimators=10)\n",
    "rf.fit(x,y)\n",
    "\n",
    "f = rf.feature_importances_\n",
    "f"
   ]
  },
  {
   "cell_type": "markdown",
   "id": "fff411cf",
   "metadata": {},
   "source": [
    "- We are getting here score of each feature\n",
    "\n",
    "- If we want to choose only 2 features  then we can take last 2 features on the basis of their scores"
   ]
  },
  {
   "cell_type": "code",
   "execution_count": 14,
   "id": "3ea83277",
   "metadata": {},
   "outputs": [
    {
     "name": "stdout",
     "output_type": "stream",
     "text": [
      "sepal length (cm) : 0.21056479212423657\n",
      "sepal width (cm) : 0.03474836801556397\n",
      "petal length (cm) : 0.4483639833852339\n",
      "petal width (cm) : 0.30632285647496554\n"
     ]
    }
   ],
   "source": [
    "for col,s in zip(iris.feature_names,f):\n",
    "    print(col,':',s)"
   ]
  },
  {
   "cell_type": "code",
   "execution_count": null,
   "id": "96ddac11",
   "metadata": {},
   "outputs": [],
   "source": []
  },
  {
   "cell_type": "code",
   "execution_count": null,
   "id": "f8da937f",
   "metadata": {},
   "outputs": [],
   "source": []
  },
  {
   "cell_type": "code",
   "execution_count": null,
   "id": "54f32827",
   "metadata": {},
   "outputs": [],
   "source": [
    "#############################################"
   ]
  },
  {
   "cell_type": "code",
   "execution_count": 15,
   "id": "0545da0d",
   "metadata": {},
   "outputs": [],
   "source": [
    "from sklearn.datasets import fetch_openml\n",
    "import matplotlib.pyplot as plt"
   ]
  },
  {
   "cell_type": "code",
   "execution_count": 16,
   "id": "2b264dd4",
   "metadata": {},
   "outputs": [],
   "source": [
    "mnist = fetch_openml('mnist_784')"
   ]
  },
  {
   "cell_type": "code",
   "execution_count": 17,
   "id": "830f1924",
   "metadata": {},
   "outputs": [
    {
     "data": {
      "text/plain": [
       "(70000, 784)"
      ]
     },
     "execution_count": 17,
     "metadata": {},
     "output_type": "execute_result"
    }
   ],
   "source": [
    "mnist.data.shape"
   ]
  },
  {
   "cell_type": "code",
   "execution_count": null,
   "id": "a081d925",
   "metadata": {},
   "outputs": [],
   "source": [
    "t = mnist.data[0].reshape(28,28)\n",
    "t.shape"
   ]
  },
  {
   "cell_type": "code",
   "execution_count": null,
   "id": "13daa324",
   "metadata": {},
   "outputs": [],
   "source": [
    "plt.imshow(t,cmap='gray')\n",
    "plt.show()"
   ]
  },
  {
   "cell_type": "code",
   "execution_count": null,
   "id": "8f370037",
   "metadata": {},
   "outputs": [],
   "source": [
    "mnist.target[0]"
   ]
  },
  {
   "cell_type": "code",
   "execution_count": null,
   "id": "c855123e",
   "metadata": {},
   "outputs": [],
   "source": []
  },
  {
   "cell_type": "code",
   "execution_count": null,
   "id": "8e2152b8",
   "metadata": {},
   "outputs": [],
   "source": []
  }
 ],
 "metadata": {
  "kernelspec": {
   "display_name": "Python 3 (ipykernel)",
   "language": "python",
   "name": "python3"
  },
  "language_info": {
   "codemirror_mode": {
    "name": "ipython",
    "version": 3
   },
   "file_extension": ".py",
   "mimetype": "text/x-python",
   "name": "python",
   "nbconvert_exporter": "python",
   "pygments_lexer": "ipython3",
   "version": "3.9.7"
  }
 },
 "nbformat": 4,
 "nbformat_minor": 5
}
